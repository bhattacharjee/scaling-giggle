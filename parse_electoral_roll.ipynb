{
  "nbformat": 4,
  "nbformat_minor": 0,
  "metadata": {
    "colab": {
      "name": "Untitled6.ipynb",
      "provenance": [],
      "authorship_tag": "ABX9TyNdSipcvxZCcySxlOs+kfQa",
      "include_colab_link": true
    },
    "kernelspec": {
      "name": "python3",
      "display_name": "Python 3"
    },
    "language_info": {
      "name": "python"
    }
  },
  "cells": [
    {
      "cell_type": "markdown",
      "metadata": {
        "id": "view-in-github",
        "colab_type": "text"
      },
      "source": [
        "<a href=\"https://colab.research.google.com/github/bhattacharjee/scaling-giggle/blob/main/parse_electoral_roll.ipynb\" target=\"_parent\"><img src=\"https://colab.research.google.com/assets/colab-badge.svg\" alt=\"Open In Colab\"/></a>"
      ]
    },
    {
      "cell_type": "markdown",
      "source": [
        "##### Installing the dependencies first\n",
        "\n",
        "We rely on two packages mainly, pdf2image and pytesseract"
      ],
      "metadata": {
        "id": "4lDfdI34O-j6"
      }
    },
    {
      "cell_type": "code",
      "execution_count": 21,
      "metadata": {
        "colab": {
          "base_uri": "https://localhost:8080/"
        },
        "id": "6s6GED3bOyAO",
        "outputId": "b3465bf0-7e8a-4543-baf1-1e0a94cd3b39"
      },
      "outputs": [
        {
          "output_type": "stream",
          "name": "stdout",
          "text": [
            "Requirement already satisfied: pdf2image in /usr/local/lib/python3.7/dist-packages (1.16.0)\n",
            "Requirement already satisfied: pillow in /usr/local/lib/python3.7/dist-packages (from pdf2image) (9.0.1)\n",
            "Requirement already satisfied: pytesseract in /usr/local/lib/python3.7/dist-packages (0.3.9)\n",
            "Requirement already satisfied: packaging>=21.3 in /usr/local/lib/python3.7/dist-packages (from pytesseract) (21.3)\n",
            "Requirement already satisfied: Pillow>=8.0.0 in /usr/local/lib/python3.7/dist-packages (from pytesseract) (9.0.1)\n",
            "Requirement already satisfied: pyparsing!=3.0.5,>=2.0.2 in /usr/local/lib/python3.7/dist-packages (from packaging>=21.3->pytesseract) (3.0.7)\n",
            "Requirement already satisfied: wget in /usr/local/lib/python3.7/dist-packages (3.2)\n",
            "Reading package lists... Done\n",
            "Building dependency tree       \n",
            "Reading state information... Done\n",
            "poppler-utils is already the newest version (0.62.0-2ubuntu2.12).\n",
            "The following package was automatically installed and is no longer required:\n",
            "  libnvidia-common-470\n",
            "Use 'apt autoremove' to remove it.\n",
            "0 upgraded, 0 newly installed, 0 to remove and 39 not upgraded.\n",
            "Reading package lists... Done\n",
            "Building dependency tree       \n",
            "Reading state information... Done\n",
            "The following package was automatically installed and is no longer required:\n",
            "  libnvidia-common-470\n",
            "Use 'apt autoremove' to remove it.\n",
            "The following NEW packages will be installed:\n",
            "  libleptonica-dev\n",
            "0 upgraded, 1 newly installed, 0 to remove and 39 not upgraded.\n",
            "Need to get 1,308 kB of archives.\n",
            "After this operation, 5,966 kB of additional disk space will be used.\n",
            "Get:1 http://archive.ubuntu.com/ubuntu bionic/universe amd64 libleptonica-dev amd64 1.75.3-3 [1,308 kB]\n",
            "Fetched 1,308 kB in 1s (1,332 kB/s)\n",
            "Selecting previously unselected package libleptonica-dev.\n",
            "(Reading database ... 155348 files and directories currently installed.)\n",
            "Preparing to unpack .../libleptonica-dev_1.75.3-3_amd64.deb ...\n",
            "Unpacking libleptonica-dev (1.75.3-3) ...\n",
            "Setting up libleptonica-dev (1.75.3-3) ...\n",
            "Reading package lists... Done\n",
            "Building dependency tree       \n",
            "Reading state information... Done\n",
            "Package tesseract-ocr-dev is not available, but is referred to by another package.\n",
            "This may mean that the package is missing, has been obsoleted, or\n",
            "is only available from another source\n",
            "However the following packages replace it:\n",
            "  libtesseract-dev\n",
            "\n",
            "E: Package 'tesseract-ocr-dev' has no installation candidate\n",
            "Reading package lists... Done\n",
            "Building dependency tree       \n",
            "Reading state information... Done\n",
            "The following package was automatically installed and is no longer required:\n",
            "  libnvidia-common-470\n",
            "Use 'apt autoremove' to remove it.\n",
            "The following NEW packages will be installed:\n",
            "  libtesseract-dev\n",
            "0 upgraded, 1 newly installed, 0 to remove and 39 not upgraded.\n",
            "Need to get 1,447 kB of archives.\n",
            "After this operation, 7,824 kB of additional disk space will be used.\n",
            "Get:1 http://archive.ubuntu.com/ubuntu bionic/universe amd64 libtesseract-dev amd64 4.00~git2288-10f4998a-2 [1,447 kB]\n",
            "Fetched 1,447 kB in 1s (1,478 kB/s)\n",
            "Selecting previously unselected package libtesseract-dev.\n",
            "(Reading database ... 155391 files and directories currently installed.)\n",
            "Preparing to unpack .../libtesseract-dev_4.00~git2288-10f4998a-2_amd64.deb ...\n",
            "Unpacking libtesseract-dev (4.00~git2288-10f4998a-2) ...\n",
            "Setting up libtesseract-dev (4.00~git2288-10f4998a-2) ...\n"
          ]
        }
      ],
      "source": [
        "# Install the dependencies\n",
        "!pip install pdf2image\n",
        "!pip install pytesseract\n",
        "!pip install wget\n",
        "\n",
        "!apt-get install poppler-utils\n",
        "!apt-get install libleptonica-dev \n",
        "!apt-get install tesseract-ocr tesseract-ocr-dev\n",
        "!apt-get install libtesseract-dev\n",
        "!apt-get install tesseract-ocr\n",
        "!apt-get install tesseract-ocr-eng"
      ]
    },
    {
      "cell_type": "code",
      "source": [
        "!apt-get install tesseract-ocr-eng"
      ],
      "metadata": {
        "id": "RtlpntU3YDlW",
        "outputId": "25d0ab94-1d23-435f-de80-8fbc583a0f0d",
        "colab": {
          "base_uri": "https://localhost:8080/"
        }
      },
      "execution_count": 30,
      "outputs": [
        {
          "output_type": "stream",
          "name": "stdout",
          "text": [
            "Reading package lists... Done\n",
            "Building dependency tree       \n",
            "Reading state information... Done\n",
            "tesseract-ocr-eng is already the newest version (4.00~git24-0e00fe6-1.2).\n",
            "tesseract-ocr-eng set to manually installed.\n",
            "The following package was automatically installed and is no longer required:\n",
            "  libnvidia-common-470\n",
            "Use 'apt autoremove' to remove it.\n",
            "0 upgraded, 0 newly installed, 0 to remove and 39 not upgraded.\n"
          ]
        }
      ]
    },
    {
      "cell_type": "code",
      "source": [
        "import os\n",
        "import wget\n",
        "import tempfile\n",
        "import pdf2image\n",
        "import pytesseract\n",
        "import logging"
      ],
      "metadata": {
        "id": "rkQ-INmEP-gU"
      },
      "execution_count": 32,
      "outputs": []
    },
    {
      "cell_type": "code",
      "source": [
        "# Add the links to the PDFs here:\n",
        "\n",
        "ONLINE_PDF_FILES_LIST = [\n",
        "    \"http://ceomeghalaya.nic.in/erolls/pdf/english/A001/A0010001.pdf\",\n",
        "    \"http://ceomeghalaya.nic.in/erolls/pdf/english/A001/A0010002.pdf\"\n",
        "]"
      ],
      "metadata": {
        "id": "0ux_Ro0tPBkC"
      },
      "execution_count": 3,
      "outputs": []
    },
    {
      "cell_type": "code",
      "source": [
        " STATE_ZERO = 0\n",
        " STATE_READING_NAMES = 1\n",
        " STATE_READING_OTHERS_NAME = 2\n",
        " STATE_READING_AGE_GENDER = 3\n",
        "\n",
        " class Roll:\n",
        "    def __init__(self, url:str)->list:\n",
        "        \"\"\"Construct the object which will be used for further\n",
        "        processing\n",
        "\n",
        "        Parameters:\n",
        "        url (str): The URL to the PDF (should not be a redirect)\n",
        "        \"\"\"\n",
        "\n",
        "        self.temp_file_name = None\n",
        "        self.pdf_url = url\n",
        "        self.state = STATE_ZERO\n",
        "        self.pages = None\n",
        "        self.pages_text = list()\n",
        "\n",
        "        temp_file = tempfile.NamedTemporaryFile(delete=False)\n",
        "        self.temp_file_name = f\"{temp_file.name}.pdf\"\n",
        "        temp_file.close()\n",
        "    \n",
        "    def download(self)->None:\n",
        "        \"\"\"Download the PDF file for this object\n",
        "\n",
        "        Returns:\n",
        "        None\n",
        "        \"\"\"\n",
        "        wget.download(self.pdf_url, self.temp_file_name)\n",
        "        if not os.path.isfile(self.temp_file_name) or \\\n",
        "            0 == os.stat(self.temp_file_name).st_size:\n",
        "            raise Exception(\"Failed to download file\")\n",
        "    \n",
        "    def convert_to_text(self, i):\n",
        "        logging.debug(f\"converting to text - page {i}\")\n",
        "        print(f\"converting to text - page {i}\")\n",
        "        return pytesseract.image_to_string(self.pages[i])\n",
        "\n",
        "    def process(self):\n",
        "        if not os.path.isfile(self.temp_file_name) or \\\n",
        "            0 == os.stat(self.temp_file_name).st_size:\n",
        "            raise Exception(\"Failed to download file\")\n",
        "        self.pages = pdf2image.convert_from_path(self.temp_file_name)\n",
        "        self.pages_text = \\\n",
        "            [self.convert_to_text(i) for i in range(len(self.pages))\\\n",
        "                if i < 8 or i > len(self.pages) - 5]\n",
        "\n",
        "    def __del__(self):\n",
        "        if os.path.exists(self.temp_file_name):\n",
        "            os.unlink(self.temp_file_name)\n",
        "\n",
        "\n",
        "roll = Roll(ONLINE_PDF_FILES_LIST[0])\n",
        "\n",
        "roll.download()\n",
        "roll.process()"
      ],
      "metadata": {
        "colab": {
          "base_uri": "https://localhost:8080/"
        },
        "id": "REL4OKurSkC9",
        "outputId": "ed41ed43-2d32-4db0-8ddf-76b47ee1597e"
      },
      "execution_count": 56,
      "outputs": [
        {
          "output_type": "stream",
          "name": "stdout",
          "text": [
            "converting to text - page 0\n",
            "converting to text - page 1\n",
            "converting to text - page 2\n",
            "converting to text - page 3\n",
            "converting to text - page 4\n",
            "converting to text - page 5\n",
            "converting to text - page 6\n",
            "converting to text - page 7\n",
            "converting to text - page 35\n",
            "converting to text - page 36\n",
            "converting to text - page 37\n",
            "converting to text - page 38\n"
          ]
        }
      ]
    },
    {
      "cell_type": "code",
      "source": [
        "\n",
        "temp_text = roll.pages_text[0]"
      ],
      "metadata": {
        "id": "9g1pvzN6TdGs"
      },
      "execution_count": 54,
      "outputs": []
    },
    {
      "cell_type": "code",
      "source": [
        "def parse_text(text):\n",
        "    text = [s.strip() for s in text.split('\\n')]\n",
        "    text = [s for s in text if len(s) > 0]\n",
        "    names = list()\n",
        "    gender = list()\n",
        "    other = list()\n",
        "    \n",
        "    for i, s in enumerate(text):\n",
        "        print(f\"{i:>3d} : [{s}]\")\n",
        "\n",
        "parse_text(roll.pages_text[0])"
      ],
      "metadata": {
        "colab": {
          "base_uri": "https://localhost:8080/"
        },
        "id": "tKHpjLXlTpWO",
        "outputId": "aa12614d-f59b-4e1a-b2a7-dad1f3fe8b3f"
      },
      "execution_count": 58,
      "outputs": [
        {
          "output_type": "stream",
          "name": "stdout",
          "text": [
            "  0 : [ELECTORAL ROLL 2022 $15 Meghalaya]\n",
            "  1 : [No. Name and Reservation Status of Assembly Constituency : 1 - NARTIANG]\n",
            "  2 : [(ST)]\n",
            "  3 : [No. Name and Reservation Status of Parliamentary Constituency(ies) in which the Assembly]\n",
            "  4 : [Constituency is located :_ 1- SHILLONG (ST]\n",
            "  5 : [Part number]\n",
            "  6 : [1]\n",
            "  7 : [1. Details of Revision]\n",
            "  8 : [Roll Identification]\n",
            "  9 : [Year of Revision 2022]\n",
            " 10 : [Basic roll of Revision 2021, integrated with the]\n",
            " 11 : [Qualifying Date 01-01-2022 supplements prepared in accordance with]\n",
            " 12 : [the extent of the newly Delimited Constituency.]\n",
            " 13 : [Type of revision Special Summary Revision]\n",
            " 14 : [2022]\n",
            " 15 : [Date of Publication 14-01-2022]\n",
            " 16 : [2 . Details of part and polling area]\n",
            " 17 : [No. and name of sections in the part]\n",
            " 18 : [> ONBLUG MWyNSNING Main Town or Village : UMLADANG]\n",
            " 19 : [3. LADAW LARU Post Office : JOWAI]\n",
            " 20 : [Panchayat 2]\n",
            " 21 : [Block : THADLASKEIN]\n",
            " 22 : [Police Station : JOWAI]\n",
            " 23 : [Sub Division :]\n",
            " 24 : [District : WEST JAINTIA HILLS]\n",
            " 25 : [Pin Code 2 793150]\n",
            " 26 : [3. Polling Station Details]\n",
            " 27 : [No. and Name of Polling Station : Type of Polling Station GENERAL]\n",
            " 28 : [(Male/Female/General)]\n",
            " 29 : [1-UMLADANG]\n",
            " 30 : [Address of Polling Station : Number of Auxiliary Polling]\n",
            " 31 : [Stations in this part: 0]\n",
            " 32 : [GOVT. L. P. SCHOOL]\n",
            " 33 : [4. NUMBER OF ELECTORS]\n",
            " 34 : [Starting]\n",
            " 35 : [Serial No.]\n",
            " 36 : [Net Electors]\n",
            " 37 : [| Female | Third Gender]\n",
            " 38 : [0]\n",
            " 39 : [Ending]\n",
            " 40 : [SerialNo. | Male]\n",
            " 41 : [1009]\n",
            " 42 : [Signature of Electoral Registration Officer]\n",
            " 43 : [Total Pages 39 - Page 1]\n"
          ]
        }
      ]
    },
    {
      "cell_type": "code",
      "source": [
        ""
      ],
      "metadata": {
        "id": "vtnk6JNvca5W"
      },
      "execution_count": null,
      "outputs": []
    }
  ]
}