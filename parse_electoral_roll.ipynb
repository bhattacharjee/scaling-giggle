{
  "nbformat": 4,
  "nbformat_minor": 0,
  "metadata": {
    "colab": {
      "name": "Untitled6.ipynb",
      "provenance": [],
      "authorship_tag": "ABX9TyO/GpO/mO2ugfAU1G32meMK",
      "include_colab_link": true
    },
    "kernelspec": {
      "name": "python3",
      "display_name": "Python 3"
    },
    "language_info": {
      "name": "python"
    }
  },
  "cells": [
    {
      "cell_type": "markdown",
      "metadata": {
        "id": "view-in-github",
        "colab_type": "text"
      },
      "source": [
        "<a href=\"https://colab.research.google.com/github/bhattacharjee/scaling-giggle/blob/main/parse_electoral_roll.ipynb\" target=\"_parent\"><img src=\"https://colab.research.google.com/assets/colab-badge.svg\" alt=\"Open In Colab\"/></a>"
      ]
    },
    {
      "cell_type": "markdown",
      "source": [
        "##### Installing the dependencies first\n",
        "\n",
        "We rely on two packages mainly, pdf2image and pytesseract"
      ],
      "metadata": {
        "id": "4lDfdI34O-j6"
      }
    },
    {
      "cell_type": "code",
      "execution_count": null,
      "metadata": {
        "colab": {
          "base_uri": "https://localhost:8080/"
        },
        "id": "6s6GED3bOyAO",
        "outputId": "0fc49153-2a10-4f3d-84ec-6cbb76f02827"
      },
      "outputs": [
        {
          "output_type": "stream",
          "name": "stdout",
          "text": [
            "Requirement already satisfied: pdf2image in /usr/local/lib/python3.7/dist-packages (1.16.0)\n",
            "Requirement already satisfied: pillow in /usr/local/lib/python3.7/dist-packages (from pdf2image) (9.0.1)\n",
            "Requirement already satisfied: pytesseract in /usr/local/lib/python3.7/dist-packages (0.3.9)\n",
            "Requirement already satisfied: packaging>=21.3 in /usr/local/lib/python3.7/dist-packages (from pytesseract) (21.3)\n",
            "Requirement already satisfied: Pillow>=8.0.0 in /usr/local/lib/python3.7/dist-packages (from pytesseract) (9.0.1)\n",
            "Requirement already satisfied: pyparsing!=3.0.5,>=2.0.2 in /usr/local/lib/python3.7/dist-packages (from packaging>=21.3->pytesseract) (3.0.7)\n"
          ]
        }
      ],
      "source": [
        "# Install the dependencies\n",
        "!pip install pdf2image\n",
        "!pip install pytesseract\n"
      ]
    },
    {
      "cell_type": "code",
      "source": [
        "import requests"
      ],
      "metadata": {
        "id": "rkQ-INmEP-gU"
      },
      "execution_count": null,
      "outputs": []
    },
    {
      "cell_type": "code",
      "source": [
        "# Add the links to the PDFs here:\n",
        "\n",
        "ONLINE_PDF_FILES_LIST = [\n",
        "    \"http://ceomeghalaya.nic.in/erolls/pdf/english/A001/A0010001.pdf\",\n",
        "    \"http://ceomeghalaya.nic.in/erolls/pdf/english/A001/A0010002.pdf\"\n",
        "]"
      ],
      "metadata": {
        "id": "0ux_Ro0tPBkC"
      },
      "execution_count": null,
      "outputs": []
    },
    {
      "cell_type": "code",
      "source": [
        " class Roll:\n",
        "    def __init__(self, url:str)->list:\n",
        "        \"\"\"Construct the object which will be used for further\n",
        "        processing\n",
        "\n",
        "        Parameters:\n",
        "        url (str): The URL to the PDF (should not be a redirect)\n",
        "        \"\"\"\n",
        "\n",
        "        self.temp_file_name = None\n",
        "        self.pdf_url = url\n",
        "\n",
        "        temp_file = tempfile.NamedTemporaryFile(delete=False)\n",
        "        self.temp_file_name = f\"{temp_file.name}.pdf\")\n",
        "        temp_file.close\n",
        "    \n",
        "    def download(self)->None:\n",
        "        \"\"\"Download the PDF file for this object\n",
        "\n",
        "        Returns:\n",
        "        None\n",
        "        \"\"\"\n",
        "        self."
      ],
      "metadata": {
        "id": "REL4OKurSkC9"
      },
      "execution_count": null,
      "outputs": []
    }
  ]
}