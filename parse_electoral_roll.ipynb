{
  "nbformat": 4,
  "nbformat_minor": 0,
  "metadata": {
    "colab": {
      "name": "Untitled6.ipynb",
      "provenance": [],
      "authorship_tag": "ABX9TyNH+5PmE9W8rq5ZkfWxMs2k",
      "include_colab_link": true
    },
    "kernelspec": {
      "name": "python3",
      "display_name": "Python 3"
    },
    "language_info": {
      "name": "python"
    }
  },
  "cells": [
    {
      "cell_type": "markdown",
      "metadata": {
        "id": "view-in-github",
        "colab_type": "text"
      },
      "source": [
        "<a href=\"https://colab.research.google.com/github/bhattacharjee/scaling-giggle/blob/main/parse_electoral_roll.ipynb\" target=\"_parent\"><img src=\"https://colab.research.google.com/assets/colab-badge.svg\" alt=\"Open In Colab\"/></a>"
      ]
    },
    {
      "cell_type": "markdown",
      "source": [
        "##### Installing the dependencies first\n",
        "\n",
        "We rely on two packages mainly, pdf2image and pytesseract"
      ],
      "metadata": {
        "id": "4lDfdI34O-j6"
      }
    },
    {
      "cell_type": "code",
      "execution_count": 1,
      "metadata": {
        "colab": {
          "base_uri": "https://localhost:8080/"
        },
        "id": "6s6GED3bOyAO",
        "outputId": "40e0a5ef-271e-4771-c52f-a93a60bed33d"
      },
      "outputs": [
        {
          "output_type": "stream",
          "name": "stdout",
          "text": [
            "Requirement already satisfied: pdf2image in /usr/local/lib/python3.7/dist-packages (1.16.0)\n",
            "Requirement already satisfied: pillow in /usr/local/lib/python3.7/dist-packages (from pdf2image) (9.0.1)\n",
            "Requirement already satisfied: pytesseract in /usr/local/lib/python3.7/dist-packages (0.3.9)\n",
            "Requirement already satisfied: Pillow>=8.0.0 in /usr/local/lib/python3.7/dist-packages (from pytesseract) (9.0.1)\n",
            "Requirement already satisfied: packaging>=21.3 in /usr/local/lib/python3.7/dist-packages (from pytesseract) (21.3)\n",
            "Requirement already satisfied: pyparsing!=3.0.5,>=2.0.2 in /usr/local/lib/python3.7/dist-packages (from packaging>=21.3->pytesseract) (3.0.7)\n",
            "Requirement already satisfied: wget in /usr/local/lib/python3.7/dist-packages (3.2)\n"
          ]
        }
      ],
      "source": [
        "# Install the dependencies\n",
        "!pip install pdf2image\n",
        "!pip install pytesseract\n",
        "!pip install wget"
      ]
    },
    {
      "cell_type": "code",
      "source": [
        "import wget\n",
        "import tempfile"
      ],
      "metadata": {
        "id": "rkQ-INmEP-gU"
      },
      "execution_count": 7,
      "outputs": []
    },
    {
      "cell_type": "code",
      "source": [
        "# Add the links to the PDFs here:\n",
        "\n",
        "ONLINE_PDF_FILES_LIST = [\n",
        "    \"http://ceomeghalaya.nic.in/erolls/pdf/english/A001/A0010001.pdf\",\n",
        "    \"http://ceomeghalaya.nic.in/erolls/pdf/english/A001/A0010002.pdf\"\n",
        "]"
      ],
      "metadata": {
        "id": "0ux_Ro0tPBkC"
      },
      "execution_count": 3,
      "outputs": []
    },
    {
      "cell_type": "code",
      "source": [
        " STATE_ZERO = 0\n",
        " STATE_READING_NAMES = 1\n",
        " STATE_READING_OTHERS_NAME = 2\n",
        " STATE_READING_AGE_GENDER = 3\n",
        "\n",
        " class Roll:\n",
        "    def __init__(self, url:str)->list:\n",
        "        \"\"\"Construct the object which will be used for further\n",
        "        processing\n",
        "\n",
        "        Parameters:\n",
        "        url (str): The URL to the PDF (should not be a redirect)\n",
        "        \"\"\"\n",
        "\n",
        "        self.temp_file_name = None\n",
        "        self.pdf_url = url\n",
        "        self.state = STATE_ZERO\n",
        "        self.pages = None\n",
        "        self.pages_text = list()\n",
        "\n",
        "        temp_file = tempfile.NamedTemporaryFile(delete=False)\n",
        "        self.temp_file_name = f\"{temp_file.name}.pdf\"\n",
        "        temp_file.close\n",
        "    \n",
        "    def download(self)->None:\n",
        "        \"\"\"Download the PDF file for this object\n",
        "\n",
        "        Returns:\n",
        "        None\n",
        "        \"\"\"\n",
        "        wget.download(self.pdf_url, self.temp_file_name)\n",
        "        if not os.path.isfile(self.temp_file) or \\\n",
        "            0 == os.stat(self.temp_file_name).st_size:\n",
        "            raise Exception(\"Failed to download file\")\n",
        "    \n",
        "\n",
        "    def process():\n",
        "        if not os.path.isfile(self.temp_file) or \\\n",
        "            0 == os.stat(self.temp_file_name).st_size:\n",
        "            raise Exception(\"Failed to download file\")\n",
        "        self.pages = pdf2image.convert_from_path(self.temp_file_name)\n",
        "\n",
        "\n",
        "roll = Roll(ONLINE_PDF_FILES_LIST[0])\n",
        "roll.download()"
      ],
      "metadata": {
        "colab": {
          "base_uri": "https://localhost:8080/"
        },
        "id": "REL4OKurSkC9",
        "outputId": "b5a4cc82-b152-49fc-9f76-8ab368b88489"
      },
      "execution_count": 9,
      "outputs": [
        {
          "output_type": "stream",
          "name": "stdout",
          "text": [
            "/tmp/tmpetoqsij_.pdf\n"
          ]
        }
      ]
    },
    {
      "cell_type": "code",
      "source": [
        "!du -sh /tmp/tmpetoqsij_.pdf"
      ],
      "metadata": {
        "id": "9g1pvzN6TdGs",
        "outputId": "041075d5-46ae-4609-e963-daa4fe94f1b4",
        "colab": {
          "base_uri": "https://localhost:8080/"
        }
      },
      "execution_count": 10,
      "outputs": [
        {
          "output_type": "stream",
          "name": "stdout",
          "text": [
            "4.3M\t/tmp/tmpetoqsij_.pdf\n"
          ]
        }
      ]
    },
    {
      "cell_type": "code",
      "source": [
        ""
      ],
      "metadata": {
        "id": "tKHpjLXlTpWO"
      },
      "execution_count": null,
      "outputs": []
    }
  ]
}